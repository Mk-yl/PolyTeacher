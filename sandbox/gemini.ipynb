{
 "cells":[
  {
   "cell_type":"markdown",
   "source":[
    "# gemini"
   ],
   "attachments":{},
   "metadata":{
    "datalore":{
     "node_id":"gemini",
     "type":"MD",
     "hide_input_from_viewers":false,
     "hide_output_from_viewers":false,
     "sheet_delimiter":true
    }
   }
  },
  {
   "cell_type":"code",
   "source":[
    "import pandas as pd\n",
    "import google.generativeai as genai\n",
    "import os\n",
    "\n",
    "\n",
    "genai.configure(api_key=os.environ[\"API_KEY\"])\n",
    "\n",
    "\n",
    "data = {\n",
    "    'Français':[\"bonjour\",\"merci\",\"Coment tu t'appelle ?\",\"Où sont les toilettes?\", \"Que fais tu dans la vie?\"],\n",
    "    'Spanish': [None, None, None, None, None],\n",
    "    'Italien': [None, None, None, None, None],\n",
    "    'Anglais': [None, None, None, None, None]\n",
    "\n",
    "}\n",
    "\n",
    "\n",
    "def translator(text, target_language):\n",
    "    prompt = f\"traduis '{text}' en {target_language}, la réponse ne doit contenir que la traduction\"\n",
    "    model = genai.GenerativeModel(\"gemini-1.5-flash\")\n",
    "    response = model.generate_content(prompt)\n",
    "    return response.text.strip()\n",
    "\n",
    "\n",
    "for language in [\"Anglais\", \"Espagnol\", \"Italien\"]:\n",
    "    data[language] = [translator(text, language.lower()) for text in data[\"Français\"]]\n",
    "\n",
    "\n",
    "dataframe = pd.DataFrame(data)\n",
    "\n",
    "\n",
    "dataframe.to_csv(\"all_translation.csv\", index=False, sep=\";\")\n",
    "\n",
    "print(dataframe)"
   ],
   "execution_count":null,
   "outputs":[],
   "metadata":{
    "datalore":{
     "node_id":"WX02KlikkJWVNqGmUE7NF1",
     "type":"CODE",
     "hide_input_from_viewers":true,
     "hide_output_from_viewers":true
    }
   }
  }
 ],
 "metadata":{
  "kernelspec":{
   "display_name":"Python",
   "language":"python",
   "name":"python"
  },
  "datalore":{
   "computation_mode":"JUPYTER",
   "package_manager":"pip",
   "base_environment":"default",
   "packages":[],
   "report_row_ids":[],
   "version":3
  }
 },
 "nbformat":4,
 "nbformat_minor":4
}